{
  "nbformat": 4,
  "nbformat_minor": 0,
  "metadata": {
    "colab": {
      "provenance": [],
      "collapsed_sections": []
    },
    "kernelspec": {
      "name": "python3",
      "display_name": "Python 3"
    },
    "language_info": {
      "name": "python"
    }
  },
  "cells": [
    {
      "cell_type": "markdown",
      "source": [
        "# Introduction To Data Science – Assignment 1\n",
        "\n",
        "---\n",
        "\n",
        "### Sections A – B – C – D\n",
        "\n",
        "---\n",
        "\n",
        "***Instructions***\n",
        "\n",
        "Due Date: Sunday 18th September 2022 – 11:59PM\n",
        "\n",
        "Name the file in the format Lyyxxxx and save it as .ipynb (e.g. L201234.ipynb)\n",
        "\n",
        "Submission will be taken on **GitHub and Google Classroom (submit the .ipynb file)** - Instructions to upload onto GitHub are provided in the link https://docs.google.com/document/d/1BR1ULOGeGWJVU6Rr6Qty1FR-quVRZyRvQGII6nEs-wo/edit?usp=sharing\n",
        "\n",
        "After uploading and submitting the .ipynb file onto Google Classroom, also private comment the link to the GitHub repository.\n",
        "\n",
        "All source files needed to complete this assignment can be found on the following Google Drive link https://drive.google.com/drive/folders/1VrkaVcExGWqilSeh50WZe4gUBjmUiJ9b?usp=sharing\n",
        "\n",
        "TA Emails\n",
        "\n",
        "Section A, C - Muhammad Maarij l192347@lhr.nu.edu.pk\n",
        "\n",
        "Section B, D - Hira Ijaz l192377@lhr.nu.edu.pk\n",
        "\n",
        "Happy Coding 😊\n",
        "\n",
        "---"
      ],
      "metadata": {
        "id": "TWWLTwYZorzC"
      }
    },
    {
      "cell_type": "markdown",
      "source": [
        "---\n",
        "## Question 1\n",
        "---"
      ],
      "metadata": {
        "id": "arB_0r9H0jjC"
      }
    },
    {
      "cell_type": "markdown",
      "source": [
        "Define a procedure called \"check_input\" that takes an input as a square list of lists (2D Matrix of N x N) and returns a boolen \"true\" if the input is valid or \"false\" otherwise, according to the following criteria.\n",
        "\n",
        "1. Each coloumn must contain numbers from between 1 and N, with no duplicates.\n",
        "2. Each row must contain numbers from between 1 and N, with no duplicates."
      ],
      "metadata": {
        "id": "qHPTNDy30n99"
      }
    },
    {
      "cell_type": "code",
      "source": [
        "# define procedure here\n",
        "array =[['a', 'b', 'c'],\n",
        "        ['b', 'c', 'a'],\n",
        "        ['c', 'a', 'b']]\n",
        "rows=4\n",
        "cols=4\n",
        "def checker(array,rows,cols):\n",
        "   \n",
        "      if rows!=cols:\n",
        "         return False\n",
        "      else :\n",
        "         return True\n",
        "      flag = [[False for i in range(rows)] \n",
        "                        for j in range(cols)]   \n",
        "      for i in range(rows):\n",
        "        for j in range(cols):\n",
        "          for k in range(cols):\n",
        "            if j!=k and array[i][j]==array[i][k]:\n",
        "              flag[i][j]=True\n",
        "              flag[i][k]=True\n",
        "\n",
        "          for k in range(rows):\n",
        "            if i!=k and array[k][j]==array[i][j]:\n",
        "                  flag[i][j]=True\n",
        "                  flag[k][j]=True\n",
        "\n",
        "\n",
        "          for i in range(rows):\n",
        "            for j in range(cols):\n",
        "                if not flag[i][j]:\n",
        "                  continue\n",
        "                else:\n",
        "                  return False\n",
        "                return True\n",
        "output=checker(array,rows,cols)\n",
        "print(output)\n"
      ],
      "metadata": {
        "id": "S2_Zic322Lt7",
        "colab": {
          "base_uri": "https://localhost:8080/"
        },
        "outputId": "770e8d3d-5a48-4a96-f52d-1d938d17a15b"
      },
      "execution_count": 6,
      "outputs": [
        {
          "output_type": "stream",
          "name": "stdout",
          "text": [
            "True\n"
          ]
        }
      ]
    },
    {
      "cell_type": "code",
      "source": [
        "# run this block to test code after defining the procedure\n",
        "\n",
        "test1 = [[1, 2, 3],\n",
        "        [2, 3, 1],\n",
        "        [3, 1, 2]]\n",
        "\n",
        "test2 = [[1, 2, 3, 4],\n",
        "        [2, 3, 1, 3],\n",
        "        [3, 1, 2, 3],\n",
        "        [4, 4, 4, 4]]\n",
        "\n",
        "test3 = [['a', 'b', 'c'],\n",
        "        ['b', 'c', 'a'],\n",
        "        ['c', 'a', 'b']]\n",
        "\n",
        "print(check_input(test1)) # must return true\n",
        "print(check_input(test2)) # must return false\n",
        "print(check_input(test3)) # must return false"
      ],
      "metadata": {
        "id": "wdL9MWgq2ZbP"
      },
      "execution_count": null,
      "outputs": []
    },
    {
      "cell_type": "markdown",
      "source": [
        "---\n",
        "## Question 2\n",
        "---"
      ],
      "metadata": {
        "id": "4RVTlnhWqOUC"
      }
    },
    {
      "cell_type": "markdown",
      "source": [
        "**Part A** - Import the file \"StudentMarkSheet.csv\" as a Pandas DataFrame and print the information for the dataframe"
      ],
      "metadata": {
        "id": "Uyc7JPtNt0pR"
      }
    },
    {
      "cell_type": "code",
      "execution_count": 10,
      "metadata": {
        "id": "wYrt7e6Xop2P",
        "colab": {
          "base_uri": "https://localhost:8080/"
        },
        "outputId": "04a5711d-1b6b-4ae4-8082-c4ef96e35fbc"
      },
      "outputs": [
        {
          "output_type": "stream",
          "name": "stdout",
          "text": [
            "        Student name  Exam name   Exam date  Marks\n",
            "0       James Walker    Biology  05/06/2016   31.0\n",
            "1      Velma Clemons    Biology  05/06/2016   43.0\n",
            "2     Kibo Underwood    Biology  05/06/2016   81.0\n",
            "3        Louis Mcgee    Biology  05/06/2016   11.0\n",
            "4       Phyllis Paul    Biology  05/06/2016   18.0\n",
            "..               ...        ...         ...    ...\n",
            "195       Yen Bowers  Sociology  21/06/2016   52.0\n",
            "196        Ryan Pena  Sociology  21/06/2016   16.0\n",
            "197  Portia Hamilton  Sociology  21/06/2016   34.0\n",
            "198  Sydnee Chambers  Sociology  21/06/2016   76.0\n",
            "199      Stacy Small  Sociology  21/06/2016   96.0\n",
            "\n",
            "[200 rows x 4 columns]\n",
            "<class 'pandas.core.frame.DataFrame'>\n",
            "RangeIndex: 200 entries, 0 to 199\n",
            "Data columns (total 4 columns):\n",
            " #   Column        Non-Null Count  Dtype  \n",
            "---  ------        --------------  -----  \n",
            " 0   Student name  200 non-null    object \n",
            " 1   Exam name     199 non-null    object \n",
            " 2   Exam date     200 non-null    object \n",
            " 3   Marks         197 non-null    float64\n",
            "dtypes: float64(1), object(3)\n",
            "memory usage: 6.4+ KB\n"
          ]
        }
      ],
      "source": [
        "import pandas as pd\n",
        "df=pd.read_csv(\"StudentMarkSheet.csv\")\n",
        "print(df)\n",
        "df.info()"
      ]
    },
    {
      "cell_type": "markdown",
      "source": [
        "**Part B** - Remove any rows that do not contain all the data. Also print the following information.\n",
        "\n",
        "1. Number of rows before\n",
        "2. Number of rows containing null data\n",
        "3. Number of rows after"
      ],
      "metadata": {
        "id": "jIaMvgcft_i0"
      }
    },
    {
      "cell_type": "code",
      "source": [
        "print(\"ROWS IN DATAFRAME : \")\n",
        "print (len(df))\n",
        "df=df.dropna(how='all')\n",
        "x=len(df)\n",
        "print(\"ROWS AFTER DROPING NULL INFO:\")\n",
        "print (len(df))\n",
        "df=df.dropna(how='any')\n",
        "y=len(df)\n",
        "sub=x-y\n",
        "print(\"TOTAL ROWS CONTAINING NULL INFO :\")\n",
        "print(sub)"
      ],
      "metadata": {
        "id": "_ov_SWdxuZUm",
        "colab": {
          "base_uri": "https://localhost:8080/"
        },
        "outputId": "d770edfc-14ea-4238-ea4b-0c59ebfe56dd"
      },
      "execution_count": 15,
      "outputs": [
        {
          "output_type": "stream",
          "name": "stdout",
          "text": [
            "ROWS IN DATAFRAME : \n",
            "196\n",
            "ROWS AFTER DROPING NULL INFO:\n",
            "196\n",
            "TOTAL ROWS CONTAINING NULL INFO :\n",
            "0\n"
          ]
        }
      ]
    },
    {
      "cell_type": "markdown",
      "source": [
        "**Part C** - Print all the marks along with the subject for the student named \"James Walker\""
      ],
      "metadata": {
        "id": "2kd9zAX6wkXM"
      }
    },
    {
      "cell_type": "code",
      "source": [
        "df.loc[df['Student name']=='James Walker', :]\n",
        "print(df[df['Student name']=='James Walker'])"
      ],
      "metadata": {
        "id": "N0HWJN-PwuSo",
        "colab": {
          "base_uri": "https://localhost:8080/"
        },
        "outputId": "aa7b2b4a-a6e4-4d77-b284-c2d34bcef900"
      },
      "execution_count": 17,
      "outputs": [
        {
          "output_type": "stream",
          "name": "stdout",
          "text": [
            "     Student name    Exam name   Exam date  Marks\n",
            "0    James Walker      Biology  05/06/2016   31.0\n",
            "42   James Walker    Chemistry  15/06/2016   61.0\n",
            "71   James Walker  Mathematics  29/07/2016   23.0\n",
            "150  James Walker      Physics  10/06/2016  100.0\n",
            "180  James Walker    Sociology  21/06/2016   73.0\n"
          ]
        }
      ]
    },
    {
      "cell_type": "markdown",
      "source": [
        "---\n",
        "## Question 3\n",
        "---"
      ],
      "metadata": {
        "id": "ts8Y1EXmwzhf"
      }
    },
    {
      "cell_type": "markdown",
      "source": [
        "**Part A** - From the DataFrame created in Question 2, calculate the average marks for each subject"
      ],
      "metadata": {
        "id": "PJENm_hpw3GQ"
      }
    },
    {
      "cell_type": "code",
      "source": [
        "import pandas as pd\n",
        "import matplotlib.pyplot as plt\n",
        "df=pd.read_csv(\"StudentMarkSheet.csv\")\n",
        "df=df.dropna(how='any')\n",
        "asio=df[df[\"Exam name\"]==\"Sociology\"]\n",
        "print(asio)\n",
        "asio=asio[\"Marks\"]\n",
        "asio=(asio.sum())/(len(asio))\n",
        "print(\"AVERAGE SOCIOLOGY MARKS ARE : \")\n",
        "print(asio)\n",
        "\n",
        "abio=df[df[\"Exam name\"]==\"Biology\"]\n",
        "print(abio)\n",
        "abio=abio[\"Marks\"]\n",
        "abio=(abio.sum())/(len(abio))\n",
        "print(\"AVERAGE BIOLOGY MARKS ARE : \")\n",
        "print(abio)\n",
        "\n",
        "amio=df[df[\"Exam name\"]==\"Mathematics\"]\n",
        "print(amio)\n",
        "amio=amio[\"Marks\"]\n",
        "amio=(amio.sum())/(len(amio))\n",
        "print(\"AVERAGE MATHEMATICS MARKS ARE : \")\n",
        "print(amio)\n",
        "\n",
        "apio=df[df[\"Exam name\"]==\"Physics\"]\n",
        "print(apio)\n",
        "apio=apio[\"Marks\"]\n",
        "apio=(apio.sum())/(len(apio))\n",
        "print(\"AVERAGE PHYSICS MARKS ARE : \")\n",
        "print(apio)\n",
        "\n",
        "alio=df[df[\"Exam name\"]==\"Philosophy\"]\n",
        "print(alio)\n",
        "alio=alio[\"Marks\"]\n",
        "alio=(alio.sum())/(len(alio))\n",
        "print(\"AVERAGE PHILOSOPHY MARKS ARE : \")\n",
        "print(alio)\n",
        "\n",
        "aCio=df[df[\"Exam name\"]==\"Chemistry\"]\n",
        "print(aCio)\n",
        "aCio=aCio[\"Marks\"]\n",
        "aCio=(aCio.sum())/(len(aCio))\n",
        "print(\"AVERAGE Chemistry MARKS ARE : \")\n",
        "print(aCio)"
      ],
      "metadata": {
        "id": "AxhCtST5xS3L",
        "colab": {
          "base_uri": "https://localhost:8080/"
        },
        "outputId": "0ebc67dc-0ed1-4dab-8abb-c4e55db1d73f"
      },
      "execution_count": 21,
      "outputs": [
        {
          "output_type": "stream",
          "name": "stdout",
          "text": [
            "          Student name  Exam name   Exam date  Marks\n",
            "161      Vincent Byers  Sociology  21/06/2016   70.0\n",
            "162      Rogan Edwards  Sociology  21/06/2016   37.0\n",
            "163     Darrel Wallace  Sociology  21/06/2016   68.0\n",
            "164       Colin Adkins  Sociology  21/06/2016   60.0\n",
            "165          Hop Cantu  Sociology  21/06/2016   98.0\n",
            "166        Nita Valdez  Sociology  21/06/2016   20.0\n",
            "167      Georgia Gomez  Sociology  21/06/2016   32.0\n",
            "168     Shannon Fields  Sociology  21/06/2016   40.0\n",
            "169     Jennifer Keith  Sociology  21/06/2016   97.0\n",
            "170          Keane Cox  Sociology  21/06/2016    1.0\n",
            "171        Sage Foster  Sociology  21/06/2016    6.0\n",
            "172        Ezra Hoover  Sociology  21/06/2016   39.0\n",
            "173       Burton Burke  Sociology  21/06/2016   68.0\n",
            "174    Preston Barrera  Sociology  21/06/2016   37.0\n",
            "175     Octavia Monroe  Sociology  21/06/2016   37.0\n",
            "176     Kirestin Sweet  Sociology  21/06/2016   90.0\n",
            "177  Octavius Chambers  Sociology  21/06/2016   38.0\n",
            "178       Grady Decker  Sociology  21/06/2016   87.0\n",
            "179   Jenette Humphrey  Sociology  21/06/2016   45.0\n",
            "180       James Walker  Sociology  21/06/2016   73.0\n",
            "181  Mohammad Cantrell  Sociology  21/06/2016   36.0\n",
            "182      Alma Richmond  Sociology  21/06/2016   35.0\n",
            "183       Galena Mayer  Sociology  21/06/2016   85.0\n",
            "184        Reese Black  Sociology  21/06/2016    7.0\n",
            "185       Phillip Ward  Sociology  21/06/2016   67.0\n",
            "186  Priscilla Higgins  Sociology  21/06/2016   80.0\n",
            "187      Yael Trujillo  Sociology  21/06/2016   55.0\n",
            "189       Todd Dillard  Sociology  21/06/2016   67.0\n",
            "190       Noelle Marsh  Sociology  21/06/2016   27.0\n",
            "191         Akeem Chan  Sociology  21/06/2016   94.0\n",
            "192      Victoria Long  Sociology  21/06/2016   96.0\n",
            "193   Brooke Zimmerman  Sociology  21/06/2016   99.0\n",
            "194      Cadman Greene  Sociology  21/06/2016   64.0\n",
            "195         Yen Bowers  Sociology  21/06/2016   52.0\n",
            "196          Ryan Pena  Sociology  21/06/2016   16.0\n",
            "197    Portia Hamilton  Sociology  21/06/2016   34.0\n",
            "198    Sydnee Chambers  Sociology  21/06/2016   76.0\n",
            "199        Stacy Small  Sociology  21/06/2016   96.0\n",
            "AVERAGE SOCIOLOGY MARKS ARE : \n",
            "56.026315789473685\n",
            "         Student name Exam name   Exam date  Marks\n",
            "0        James Walker   Biology  05/06/2016   31.0\n",
            "1       Velma Clemons   Biology  05/06/2016   43.0\n",
            "2      Kibo Underwood   Biology  05/06/2016   81.0\n",
            "3         Louis Mcgee   Biology  05/06/2016   11.0\n",
            "4        Phyllis Paul   Biology  05/06/2016   18.0\n",
            "5      Zenaida Decker   Biology  05/06/2016   55.0\n",
            "6     Gillian Tillman   Biology  05/06/2016   38.0\n",
            "7     Constance Boone   Biology  05/06/2016   16.0\n",
            "8   Giselle Lancaster   Biology  05/06/2016   73.0\n",
            "9    Kirsten Mcdowell   Biology  05/06/2016   16.0\n",
            "10        Solomon Ray   Biology  05/06/2016   23.0\n",
            "11      John Marshall   Biology  05/06/2016   55.0\n",
            "12     Merrill Carney   Biology  05/06/2016   71.0\n",
            "13   Hakeem Gillespie   Biology  05/06/2016   12.0\n",
            "14       Hayden Boyer   Biology  05/06/2016   77.0\n",
            "15     Griffin Mcleod   Biology  05/06/2016   19.0\n",
            "16   Allistair Patton   Biology  05/06/2016   57.0\n",
            "17        Rina Slater   Biology  05/06/2016   78.0\n",
            "18   Caldwell Skinner   Biology  05/06/2016   92.0\n",
            "19    Portia Galloway   Biology  05/06/2016   23.0\n",
            "20   Noelle Valentine   Biology  05/06/2016   62.0\n",
            "21          Abel Clay   Biology  05/06/2016    1.0\n",
            "22     Stephanie Kent   Biology  05/06/2016  100.0\n",
            "23         Axel Petty   Biology  05/06/2016   49.0\n",
            "24     Nevada Morales   Biology  05/06/2016   41.0\n",
            "25        Fuller Bush   Biology  05/06/2016   47.0\n",
            "26         Quinn Mayo   Biology  05/06/2016   24.0\n",
            "27     Marcia Shepard   Biology  05/06/2016   33.0\n",
            "28       Kieran Moody   Biology  05/06/2016   45.0\n",
            "29   Brielle Thompson   Biology  05/06/2016   41.0\n",
            "30         Hashim Gay   Biology  05/06/2016   78.0\n",
            "31    Deborah Roberts   Biology  05/06/2016   25.0\n",
            "32    Nomlanga Clarke   Biology  05/06/2016   44.0\n",
            "33       Elaine Downs   Biology  05/06/2016   86.0\n",
            "34   Christen Ballard   Biology  05/06/2016   97.0\n",
            "35       Dacey Baxter   Biology  05/06/2016   35.0\n",
            "36      Nasim Sampson   Biology  05/06/2016   75.0\n",
            "37      Yoshi Sherman   Biology  05/06/2016   48.0\n",
            "AVERAGE BIOLOGY MARKS ARE : \n",
            "47.89473684210526\n",
            "           Student name    Exam name   Exam date  Marks\n",
            "65      Keefe Schneider  Mathematics  29/07/2016   48.0\n",
            "66       Kasper Ballard  Mathematics  29/07/2016    5.0\n",
            "67         Maris Turner  Mathematics  29/07/2016    7.0\n",
            "68        Ava Robertson  Mathematics  29/07/2016   70.0\n",
            "69       Gillian Benton  Mathematics  29/07/2016   73.0\n",
            "70          Dora Landry  Mathematics  29/07/2016   59.0\n",
            "71         James Walker  Mathematics  29/07/2016   23.0\n",
            "72          Iola Sutton  Mathematics  29/07/2016   72.0\n",
            "73            Jana Reed  Mathematics  29/07/2016   31.0\n",
            "74         Alfonso Love  Mathematics  29/07/2016   74.0\n",
            "75        Ciaran Mosley  Mathematics  29/07/2016   91.0\n",
            "76         Justin Evans  Mathematics  29/07/2016   53.0\n",
            "77          Ryder Combs  Mathematics  29/07/2016   56.0\n",
            "79        Jakeem Rivera  Mathematics  29/07/2016  100.0\n",
            "80           Hyatt Long  Mathematics  29/07/2016   50.0\n",
            "81      Tanisha Stanton  Mathematics  29/07/2016   60.0\n",
            "82         Alec Pittman  Mathematics  29/07/2016   38.0\n",
            "83       Octavia Ashley  Mathematics  29/07/2016   33.0\n",
            "84       Curran Merrill  Mathematics  29/07/2016   75.0\n",
            "85          Laith Gibbs  Mathematics  29/07/2016   74.0\n",
            "86       Walter Skinner  Mathematics  29/07/2016    7.0\n",
            "87           Burke Horn  Mathematics  29/07/2016    6.0\n",
            "88     Alexander Walton  Mathematics  29/07/2016   40.0\n",
            "89      Cally Wilkinson  Mathematics  29/07/2016   14.0\n",
            "90        Gary Mcintosh  Mathematics  29/07/2016   16.0\n",
            "91          Jacob Greer  Mathematics  29/07/2016   31.0\n",
            "92   Fitzgerald Mueller  Mathematics  29/07/2016   72.0\n",
            "93       Claire Roberts  Mathematics  29/07/2016   48.0\n",
            "94        Kuame Harrell  Mathematics  29/07/2016   53.0\n",
            "95         Kaseem Hurst  Mathematics  29/07/2016   67.0\n",
            "96           Irene Witt  Mathematics  29/07/2016   23.0\n",
            "97        Courtney Nash  Mathematics  29/07/2016   90.0\n",
            "98          Lane Torres  Mathematics  29/07/2016   87.0\n",
            "99         Jonas Vinson  Mathematics  29/07/2016   40.0\n",
            "100       Burton Holden  Mathematics  29/07/2016   26.0\n",
            "101         Connor Shaw  Mathematics  29/07/2016   51.0\n",
            "AVERAGE MATHEMATICS MARKS ARE : \n",
            "48.97222222222222\n",
            "         Student name Exam name   Exam date  Marks\n",
            "140  Ashton Nicholson   Physics  10/06/2016   69.0\n",
            "141   Solomon Rollins   Physics  10/06/2016   95.0\n",
            "142   Wesley Jacobson   Physics  10/06/2016   33.0\n",
            "143       Laura Gomez   Physics  10/06/2016   76.0\n",
            "144      Cora Fuentes   Physics  10/06/2016   20.0\n",
            "145   Deirdre Flowers   Physics  10/06/2016   10.0\n",
            "146      Yen Rutledge   Physics  10/06/2016   67.0\n",
            "147  Vladimir Delgado   Physics  10/06/2016   80.0\n",
            "148     Hedley Brewer   Physics  10/06/2016   22.0\n",
            "149    Lillian Massey   Physics  10/06/2016    8.0\n",
            "150      James Walker   Physics  10/06/2016  100.0\n",
            "151       Raja Conley   Physics  10/06/2016   49.0\n",
            "152     Xavier Coffey   Physics  10/06/2016   70.0\n",
            "153        Ian Sawyer   Physics  10/06/2016   86.0\n",
            "154    Branden Hansen   Physics  10/06/2016   15.0\n",
            "155    Yoshio Schultz   Physics  10/06/2016   95.0\n",
            "156     Jamal Mercado   Physics  10/06/2016   67.0\n",
            "157    Ishmael Zamora   Physics  10/06/2016   20.0\n",
            "158    Kristen Potter   Physics  10/06/2016   31.0\n",
            "159   Unity Rodriquez   Physics  10/06/2016   48.0\n",
            "160         Mia Barry   Physics  10/06/2016   26.0\n",
            "AVERAGE PHYSICS MARKS ARE : \n",
            "51.76190476190476\n",
            "           Student name   Exam name   Exam date  Marks\n",
            "102       Calvin Riddle  Philosophy  02/06/2016   35.0\n",
            "103         Tara Mendez  Philosophy  02/06/2016   66.0\n",
            "105         Pandora Orr  Philosophy  02/06/2016   91.0\n",
            "106     Stuart Crawford  Philosophy  02/06/2016   63.0\n",
            "107       Winter Mendez  Philosophy  02/06/2016   16.0\n",
            "108         Elijah Goff  Philosophy  02/06/2016   10.0\n",
            "109    Chiquita Gilmore  Philosophy  02/06/2016   23.0\n",
            "110     Eleanor Gregory  Philosophy  02/06/2016   72.0\n",
            "111        Justine Soto  Philosophy  02/06/2016   93.0\n",
            "112     Stuart Mcdaniel  Philosophy  02/06/2016   10.0\n",
            "113    Shaeleigh Dunlap  Philosophy  02/06/2016   99.0\n",
            "114       Lesley Bolton  Philosophy  02/06/2016   67.0\n",
            "115       Shellie Davis  Philosophy  02/06/2016   81.0\n",
            "116        Tarik Jarvis  Philosophy  02/06/2016   40.0\n",
            "117          Adria Ball  Philosophy  02/06/2016   23.0\n",
            "118       Daryl Tillman  Philosophy  02/06/2016   65.0\n",
            "119          Magee Tate  Philosophy  02/06/2016   24.0\n",
            "120      Jordan Beasley  Philosophy  02/06/2016   62.0\n",
            "121       Dalton Becker  Philosophy  02/06/2016   41.0\n",
            "122       Derek Burnett  Philosophy  02/06/2016   42.0\n",
            "123        Halla Little  Philosophy  02/06/2016    8.0\n",
            "124           Lani Pate  Philosophy  02/06/2016   91.0\n",
            "125         Moses Chang  Philosophy  02/06/2016   69.0\n",
            "126        Travis Weeks  Philosophy  02/06/2016   47.0\n",
            "127      Nichole Ortega  Philosophy  02/06/2016    0.0\n",
            "128        Hasad Berger  Philosophy  02/06/2016   42.0\n",
            "129         Galvin Hall  Philosophy  02/06/2016   65.0\n",
            "130      Kieran English  Philosophy  02/06/2016   42.0\n",
            "131           Ella Dunn  Philosophy  02/06/2016   32.0\n",
            "132      Jermaine Roman  Philosophy  02/06/2016   33.0\n",
            "133  Chadwick Armstrong  Philosophy  02/06/2016    4.0\n",
            "134        Rhonda Ellis  Philosophy  02/06/2016   27.0\n",
            "135         Ezra Brooks  Philosophy  02/06/2016   56.0\n",
            "136   Jessamine Trevino  Philosophy  02/06/2016   36.0\n",
            "137      Chaim Garrison  Philosophy  02/06/2016   51.0\n",
            "138          Bo Leonard  Philosophy  02/06/2016   71.0\n",
            "139       May Christian  Philosophy  02/06/2016   52.0\n",
            "AVERAGE PHILOSOPHY MARKS ARE : \n",
            "47.270270270270274\n",
            "        Student name  Exam name   Exam date  Marks\n",
            "38       Veda Malone  Chemistry  15/06/2016   52.0\n",
            "39   Scarlett Fisher  Chemistry  15/06/2016   20.0\n",
            "40  Meredith Parsons  Chemistry  15/06/2016   32.0\n",
            "41    Jerome Buckley  Chemistry  15/06/2016   19.0\n",
            "42      James Walker  Chemistry  15/06/2016   61.0\n",
            "43  Gisela Robertson  Chemistry  15/06/2016   34.0\n",
            "44       Sylvia Kent  Chemistry  15/06/2016    9.0\n",
            "45     Mercedes King  Chemistry  15/06/2016   22.0\n",
            "46      Logan Madden  Chemistry  15/06/2016   46.0\n",
            "48      Cora Frazier  Chemistry  15/06/2016   92.0\n",
            "49    Yolanda Carter  Chemistry  15/06/2016    1.0\n",
            "50     Hadassah Lowe  Chemistry  15/06/2016   84.0\n",
            "51       Ingrid Yang  Chemistry  15/06/2016   63.0\n",
            "52     Trevor Spence  Chemistry  15/06/2016   59.0\n",
            "53         Iola West  Chemistry  15/06/2016   61.0\n",
            "54      Kitra Sparks  Chemistry  15/06/2016   47.0\n",
            "55        Carly Bray  Chemistry  15/06/2016   27.0\n",
            "56     Leilani Beard  Chemistry  15/06/2016   99.0\n",
            "57     Cameron Bowen  Chemistry  15/06/2016   84.0\n",
            "58      Hilda Oneill  Chemistry  15/06/2016   95.0\n",
            "59         Ori Short  Chemistry  15/06/2016   50.0\n",
            "60   Xandra Cardenas  Chemistry  15/06/2016   27.0\n",
            "61       Audrey Todd  Chemistry  15/06/2016   39.0\n",
            "62   Ferdinand Lloyd  Chemistry  15/06/2016   71.0\n",
            "63   Kareem Mcdowell  Chemistry  15/06/2016   83.0\n",
            "64       Aaron Giles  Chemistry  15/06/2016   38.0\n",
            "AVERAGE Chemistry MARKS ARE : \n",
            "50.57692307692308\n"
          ]
        }
      ]
    },
    {
      "cell_type": "markdown",
      "source": [
        "**Part B** - Using the averages you just calculated, plot a Bar Graph showing the average marks of each subject"
      ],
      "metadata": {
        "id": "NDlaA7hHxUBc"
      }
    },
    {
      "cell_type": "code",
      "source": [
        "SUBS=[\"Mathematics\",\"Chemistry\",\"Philosophy\",\"Sociology\",\"Physics\",\"Biology\"]\n",
        "avg=[amio,aCio,alio,asio,apio,abio]\n",
        "plt.bar(SUBS,avg,fc=\"red\")\n",
        "plt.show()"
      ],
      "metadata": {
        "id": "LWoPFZBOyyNn",
        "colab": {
          "base_uri": "https://localhost:8080/",
          "height": 265
        },
        "outputId": "89e070f7-5488-414e-c700-2932b415644c"
      },
      "execution_count": 22,
      "outputs": [
        {
          "output_type": "display_data",
          "data": {
            "text/plain": [
              "<Figure size 432x288 with 1 Axes>"
            ],
            "image/png": "[encoded data removed]"
          },
          "metadata": {
            "needs_background": "light"
          }
        }
      ]
    },
    {
      "cell_type": "markdown",
      "source": [
        "---\n",
        "## Question 4\n",
        "---"
      ],
      "metadata": {
        "id": "dWlOSOIs6d1R"
      }
    },
    {
      "cell_type": "markdown",
      "source": [
        "**Part A** - Import the file \"CatData.csv\" and preprocess it to remove any null values"
      ],
      "metadata": {
        "id": "b4s-pN4v6kgb"
      }
    },
    {
      "cell_type": "code",
      "source": [
        "import pandas as pd\n",
        "df=pd.read_csv(\"CatData.csv\")\n",
        "df.head()\n",
        "n=df[df.isnull().any(axis=1)]\n",
        "df=df.dropna()\n",
        "print(df)"
      ],
      "metadata": {
        "id": "mvZ3xrBV9b1s",
        "colab": {
          "base_uri": "https://localhost:8080/"
        },
        "outputId": "4ecba8e5-3709-4480-9045-124b3dccb3cf"
      },
      "execution_count": 24,
      "outputs": [
        {
          "output_type": "stream",
          "name": "stdout",
          "text": [
            "     Tail Length (cm)  Mass (kg)\n",
            "0                18.1      3.750\n",
            "1                18.6      3.800\n",
            "2                19.5      3.250\n",
            "3                19.3      3.450\n",
            "4                19.0      3.650\n",
            "..                ...        ...\n",
            "337              20.7      4.000\n",
            "338              20.2      3.400\n",
            "339              19.3      3.775\n",
            "340              21.0      4.100\n",
            "341              19.8      3.775\n",
            "\n",
            "[342 rows x 2 columns]\n"
          ]
        }
      ]
    },
    {
      "cell_type": "markdown",
      "source": [
        "**Part B** - Identify the independant and dependant variables (comment answer below)"
      ],
      "metadata": {
        "id": "bWxuB3ep9SWA"
      }
    },
    {
      "cell_type": "code",
      "source": [
        "# dependant variable: Mass\n",
        "# independant variable: Tail Length\n",
        "# Mass increases with the increase in Tail Length\n",
        "T = df.iloc[:, -1].values\n",
        "print(T)\n",
        "K = df.iloc[:, :-1].values\n",
        "print(K) "
      ],
      "metadata": {
        "id": "TS9tvuRt9cWr",
        "colab": {
          "base_uri": "https://localhost:8080/"
        },
        "outputId": "559bec6b-18af-4328-8a5e-d11efb6ec782"
      },
      "execution_count": 25,
      "outputs": [
        {
          "output_type": "stream",
          "name": "stdout",
          "text": [
            "[3.75  3.8   3.25  3.45  3.65  3.625 4.675 3.475 4.25  3.3   3.7   3.2\n",
            " 3.8   4.4   3.7   3.45  4.5   3.325 4.2   3.4   3.6   3.8   3.95  3.8\n",
            " 3.8   3.55  3.2   3.15  3.95  3.25  3.9   3.3   3.9   3.325 4.15  3.95\n",
            " 3.55  3.3   4.65  3.15  3.9   3.1   4.4   3.    4.6   3.425 2.975 3.45\n",
            " 4.15  3.5   4.3   3.45  4.05  2.9   3.7   3.55  3.8   2.85  3.75  3.15\n",
            " 4.4   3.6   4.05  2.85  3.95  3.35  4.1   3.05  4.45  3.6   3.9   3.55\n",
            " 4.15  3.7   4.25  3.7   3.9   3.55  4.    3.2   4.7   3.8   4.2   3.35\n",
            " 3.55  3.8   3.5   3.95  3.6   3.55  4.3   3.4   4.45  3.3   4.3   3.7\n",
            " 4.35  2.9   4.1   3.725 4.725 3.075 4.25  2.925 3.55  3.75  3.9   3.175\n",
            " 4.775 3.825 4.6   3.2   4.275 3.9   4.075 2.9   3.775 3.35  3.325 3.15\n",
            " 3.5   3.45  3.875 3.05  4.    3.275 4.3   3.05  4.    3.325 3.5   3.5\n",
            " 4.475 3.425 3.9   3.175 3.975 3.4   4.25  3.4   3.475 3.05  3.725 3.\n",
            " 3.65  4.25  3.475 3.45  3.75  3.7   4.    4.5   5.7   4.45  5.7   5.4\n",
            " 4.55  4.8   5.2   4.4   5.15  4.65  5.55  4.65  5.85  4.2   5.85  4.15\n",
            " 6.3   4.8   5.35  5.7   5.    4.4   5.05  5.    5.1   4.1   5.65  4.6\n",
            " 5.55  5.25  4.7   5.05  6.05  5.15  5.4   4.95  5.25  4.35  5.35  3.95\n",
            " 5.7   4.3   4.75  5.55  4.9   4.2   5.4   5.1   5.3   4.85  5.3   4.4\n",
            " 5.    4.9   5.05  4.3   5.    4.45  5.55  4.2   5.3   4.4   5.65  4.7\n",
            " 5.7   4.65  5.8   4.7   5.55  4.75  5.    5.1   5.2   4.7   5.8   4.6\n",
            " 6.    4.75  5.95  4.625 5.45  4.725 5.35  4.75  5.6   4.6   5.3   4.875\n",
            " 5.55  4.95  5.4   4.75  5.65  4.85  5.2   4.925 4.875 4.625 5.25  4.85\n",
            " 5.6   4.975 5.5   4.725 5.5   4.7   5.5   4.575 5.5   5.    5.95  4.65\n",
            " 5.5   4.375 5.85  4.875 6.    4.925 4.85  5.75  5.2   5.4   3.5   3.9\n",
            " 3.65  3.525 3.725 3.95  3.25  3.75  4.15  3.7   3.8   3.775 3.7   4.05\n",
            " 3.575 4.05  3.3   3.7   3.45  4.4   3.6   3.4   2.9   3.8   3.3   4.15\n",
            " 3.4   3.8   3.7   4.55  3.2   4.3   3.35  4.1   3.6   3.9   3.85  4.8\n",
            " 2.7   4.5   3.95  3.65  3.55  3.5   3.675 4.45  3.4   4.3   3.25  3.675\n",
            " 3.325 3.95  3.6   4.05  3.35  3.45  3.25  4.05  3.8   3.525 3.95  3.65\n",
            " 3.65  4.    3.4   3.775 4.1   3.775]\n",
            "[[18.1]\n",
            " [18.6]\n",
            " [19.5]\n",
            " [19.3]\n",
            " [19. ]\n",
            " [18.1]\n",
            " [19.5]\n",
            " [19.3]\n",
            " [19. ]\n",
            " [18.6]\n",
            " [18. ]\n",
            " [18.2]\n",
            " [19.1]\n",
            " [19.8]\n",
            " [18.5]\n",
            " [19.5]\n",
            " [19.7]\n",
            " [18.4]\n",
            " [19.4]\n",
            " [17.4]\n",
            " [18. ]\n",
            " [18.9]\n",
            " [18.5]\n",
            " [18. ]\n",
            " [18.7]\n",
            " [18.3]\n",
            " [18.7]\n",
            " [17.2]\n",
            " [18. ]\n",
            " [17.8]\n",
            " [17.8]\n",
            " [18.8]\n",
            " [18.4]\n",
            " [19.5]\n",
            " [19.6]\n",
            " [19. ]\n",
            " [18. ]\n",
            " [18.1]\n",
            " [18.4]\n",
            " [18.2]\n",
            " [19.5]\n",
            " [18.6]\n",
            " [19.6]\n",
            " [18.5]\n",
            " [19. ]\n",
            " [18.2]\n",
            " [17.9]\n",
            " [19. ]\n",
            " [19.1]\n",
            " [18.6]\n",
            " [18.8]\n",
            " [19. ]\n",
            " [20. ]\n",
            " [18.7]\n",
            " [19.1]\n",
            " [18.6]\n",
            " [19.3]\n",
            " [18.1]\n",
            " [19.4]\n",
            " [18.5]\n",
            " [19.5]\n",
            " [18.5]\n",
            " [19.2]\n",
            " [18.4]\n",
            " [19.2]\n",
            " [19.5]\n",
            " [18.8]\n",
            " [19. ]\n",
            " [19.8]\n",
            " [19. ]\n",
            " [19. ]\n",
            " [19.6]\n",
            " [19.7]\n",
            " [19. ]\n",
            " [19.5]\n",
            " [19.1]\n",
            " [18.4]\n",
            " [18.7]\n",
            " [19.5]\n",
            " [18.9]\n",
            " [19.6]\n",
            " [18.7]\n",
            " [19.3]\n",
            " [19.1]\n",
            " [19.4]\n",
            " [19. ]\n",
            " [18.9]\n",
            " [18.9]\n",
            " [19. ]\n",
            " [20.2]\n",
            " [20.5]\n",
            " [18.5]\n",
            " [18.6]\n",
            " [18.7]\n",
            " [20.8]\n",
            " [19. ]\n",
            " [19.6]\n",
            " [17.8]\n",
            " [19.2]\n",
            " [19.2]\n",
            " [20.3]\n",
            " [18.3]\n",
            " [19. ]\n",
            " [19.3]\n",
            " [18.4]\n",
            " [19.9]\n",
            " [19. ]\n",
            " [18.1]\n",
            " [19.7]\n",
            " [19.8]\n",
            " [19.1]\n",
            " [19.3]\n",
            " [19.7]\n",
            " [19.1]\n",
            " [19.6]\n",
            " [18.8]\n",
            " [19.9]\n",
            " [18.9]\n",
            " [18.9]\n",
            " [18.7]\n",
            " [19.8]\n",
            " [17.6]\n",
            " [20.2]\n",
            " [18.6]\n",
            " [19.9]\n",
            " [19.1]\n",
            " [19.5]\n",
            " [19.1]\n",
            " [21. ]\n",
            " [19. ]\n",
            " [19.7]\n",
            " [19.3]\n",
            " [19.9]\n",
            " [18.7]\n",
            " [19. ]\n",
            " [19.1]\n",
            " [20. ]\n",
            " [18.5]\n",
            " [19.3]\n",
            " [19.3]\n",
            " [18.7]\n",
            " [18.8]\n",
            " [19. ]\n",
            " [19.2]\n",
            " [18.5]\n",
            " [19. ]\n",
            " [18.4]\n",
            " [19.5]\n",
            " [19.3]\n",
            " [18.7]\n",
            " [20.1]\n",
            " [21.1]\n",
            " [23. ]\n",
            " [21. ]\n",
            " [21.8]\n",
            " [21.5]\n",
            " [21. ]\n",
            " [21.1]\n",
            " [21.9]\n",
            " [20.9]\n",
            " [21.5]\n",
            " [21.4]\n",
            " [21.6]\n",
            " [21.4]\n",
            " [21.3]\n",
            " [21. ]\n",
            " [21.7]\n",
            " [21. ]\n",
            " [22.1]\n",
            " [20.9]\n",
            " [22.2]\n",
            " [21.8]\n",
            " [21.5]\n",
            " [21.3]\n",
            " [21.5]\n",
            " [21.5]\n",
            " [21.5]\n",
            " [21.6]\n",
            " [21.5]\n",
            " [21. ]\n",
            " [22. ]\n",
            " [22.2]\n",
            " [20.9]\n",
            " [20.7]\n",
            " [23. ]\n",
            " [22. ]\n",
            " [22. ]\n",
            " [21.3]\n",
            " [21.9]\n",
            " [20.8]\n",
            " [20.8]\n",
            " [20.8]\n",
            " [22.5]\n",
            " [21. ]\n",
            " [21.6]\n",
            " [22.2]\n",
            " [21.7]\n",
            " [21. ]\n",
            " [22.5]\n",
            " [21.3]\n",
            " [21.5]\n",
            " [21. ]\n",
            " [22. ]\n",
            " [21. ]\n",
            " [22.5]\n",
            " [21.7]\n",
            " [22. ]\n",
            " [20.8]\n",
            " [22. ]\n",
            " [20.8]\n",
            " [22.4]\n",
            " [20.8]\n",
            " [22.1]\n",
            " [21.4]\n",
            " [23.1]\n",
            " [21.9]\n",
            " [23. ]\n",
            " [21.4]\n",
            " [22.9]\n",
            " [22. ]\n",
            " [22.3]\n",
            " [21.6]\n",
            " [22.1]\n",
            " [22.1]\n",
            " [21.7]\n",
            " [21.6]\n",
            " [23. ]\n",
            " [20.9]\n",
            " [22. ]\n",
            " [21.5]\n",
            " [22.3]\n",
            " [21.2]\n",
            " [22.1]\n",
            " [21.2]\n",
            " [22.4]\n",
            " [21.2]\n",
            " [22.8]\n",
            " [21.8]\n",
            " [21.8]\n",
            " [21.2]\n",
            " [23. ]\n",
            " [21.8]\n",
            " [22.8]\n",
            " [21.2]\n",
            " [22.4]\n",
            " [21.4]\n",
            " [22.6]\n",
            " [21.6]\n",
            " [22.2]\n",
            " [20.3]\n",
            " [22.5]\n",
            " [21.9]\n",
            " [22.8]\n",
            " [21.5]\n",
            " [22.8]\n",
            " [21.6]\n",
            " [21.5]\n",
            " [21. ]\n",
            " [21.9]\n",
            " [20.8]\n",
            " [20.9]\n",
            " [21.6]\n",
            " [22.9]\n",
            " [21.3]\n",
            " [23. ]\n",
            " [21.7]\n",
            " [23. ]\n",
            " [21.7]\n",
            " [22.2]\n",
            " [21.4]\n",
            " [21.5]\n",
            " [22.2]\n",
            " [21.2]\n",
            " [21.3]\n",
            " [19.2]\n",
            " [19.6]\n",
            " [19.3]\n",
            " [18.8]\n",
            " [19.7]\n",
            " [19.8]\n",
            " [17.8]\n",
            " [19.7]\n",
            " [19.5]\n",
            " [19.8]\n",
            " [19.3]\n",
            " [19.4]\n",
            " [18.5]\n",
            " [20.1]\n",
            " [19. ]\n",
            " [20.1]\n",
            " [19.7]\n",
            " [18.1]\n",
            " [19. ]\n",
            " [19.5]\n",
            " [18.1]\n",
            " [19.1]\n",
            " [18.7]\n",
            " [19.3]\n",
            " [19.5]\n",
            " [19.7]\n",
            " [20. ]\n",
            " [20. ]\n",
            " [19.1]\n",
            " [20.5]\n",
            " [18.7]\n",
            " [20.1]\n",
            " [18.7]\n",
            " [20.3]\n",
            " [19.5]\n",
            " [19.9]\n",
            " [19.5]\n",
            " [21. ]\n",
            " [19.2]\n",
            " [20.5]\n",
            " [21. ]\n",
            " [18.7]\n",
            " [19.6]\n",
            " [19.6]\n",
            " [19.6]\n",
            " [20.1]\n",
            " [19. ]\n",
            " [21.2]\n",
            " [18.7]\n",
            " [19.8]\n",
            " [19.9]\n",
            " [20.1]\n",
            " [19.3]\n",
            " [20.3]\n",
            " [18.7]\n",
            " [19.7]\n",
            " [19.1]\n",
            " [20.3]\n",
            " [20.2]\n",
            " [19.4]\n",
            " [20.6]\n",
            " [18.9]\n",
            " [19.5]\n",
            " [20.7]\n",
            " [20.2]\n",
            " [19.3]\n",
            " [21. ]\n",
            " [19.8]]\n"
          ]
        }
      ]
    },
    {
      "cell_type": "markdown",
      "source": [
        "**Part C** - Create a linear regression model using sklearn and fit it to the data you just imported\n"
      ],
      "metadata": {
        "id": "xPHVA3cX7uk9"
      }
    },
    {
      "cell_type": "code",
      "source": [
        "import numpy as np\n",
        "import matplotlib.pyplot as plt\n",
        "from sklearn import linear_model\n",
        "n=int(len(df)*0.8)\n",
        "train=df[:n]\n",
        "test=df[n:]\n",
        "r=linear_model.LinearRegression()\n",
        "train_x = np.array(train[[\"Tail Length (cm)\"]])\n",
        "train_y = np.array(train[[\"Mass (kg)\"]])\n",
        "r.fit(train_x,train_y)"
      ],
      "metadata": {
        "id": "WYVNRotH9cyo",
        "colab": {
          "base_uri": "https://localhost:8080/"
        },
        "outputId": "5d6a9fb3-8fa4-413c-bc83-67127f9bb6f9"
      },
      "execution_count": 29,
      "outputs": [
        {
          "output_type": "execute_result",
          "data": {
            "text/plain": [
              "LinearRegression()"
            ]
          },
          "metadata": {},
          "execution_count": 29
        }
      ]
    },
    {
      "cell_type": "markdown",
      "source": [
        "**Part D** - Print the values for slope and y-intercept"
      ],
      "metadata": {
        "id": "0QMipKhb830G"
      }
    },
    {
      "cell_type": "code",
      "source": [
        "coe=r.coef_\n",
        "intercept=r.intercept_\n",
        "print(\"Slope : \",coe)\n",
        "print(\"Intercept:\",intercept)"
      ],
      "metadata": {
        "id": "R7cvi3KB9dJh",
        "colab": {
          "base_uri": "https://localhost:8080/"
        },
        "outputId": "a8a457b4-4e01-49fc-8519-d031550e9b33"
      },
      "execution_count": 30,
      "outputs": [
        {
          "output_type": "stream",
          "name": "stdout",
          "text": [
            "Slope :  [[0.48913766]]\n",
            "Intercept: [-5.57328662]\n"
          ]
        }
      ]
    },
    {
      "cell_type": "markdown",
      "source": [
        "**Part E** - Plot a scatter graph of the original data and a regression line on the same figure (example with dummy data shown below)\n",
        "\n",
        "![](https://drive.google.com/uc?export=view&id=1o_NAsNjfx7zAh9m-UjvWB3rta6uraKdY)"
      ],
      "metadata": {
        "id": "IIq-BQYp_i33"
      }
    },
    {
      "cell_type": "code",
      "source": [
        "plt.xlabel(\"Tail Length(cm)\")\n",
        "plt.ylabel(\"Mass (kg)\")\n",
        "plt.title(\"Tail Length vs Mass\")\n",
        "plt.scatter(train[\"Tail Length (cm)\"],train [\"Mass (kg)\"])\n",
        "plt.plot(train_x,train_x*coe[0]+intercept,color ='black')\n",
        "plt.show()"
      ],
      "metadata": {
        "id": "jhz8gTYt_lCn",
        "colab": {
          "base_uri": "https://localhost:8080/",
          "height": 295
        },
        "outputId": "354dd1fd-7d6b-495c-8694-01ee1d4b2fe3"
      },
      "execution_count": 33,
      "outputs": [
        {
          "output_type": "display_data",
          "data": {
            "text/plain": [
              "<Figure size 432x288 with 1 Axes>"
            ],
            "image/png": "[encoded data removed]"
          },
          "metadata": {
            "needs_background": "light"
          }
        }
      ]
    }
  ]
}